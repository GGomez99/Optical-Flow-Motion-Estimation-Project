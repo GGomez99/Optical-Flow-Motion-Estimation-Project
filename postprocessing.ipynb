{
 "cells": [
  {
   "cell_type": "code",
   "execution_count": 1,
   "metadata": {
    "collapsed": true,
    "pycharm": {
     "name": "#%%\n"
    }
   },
   "outputs": [],
   "source": [
    "import cv2\n",
    "import matplotlib.pyplot as plt\n",
    "import numpy as np\n",
    "import utils.postprocess as postpro"
   ]
  },
  {
   "cell_type": "code",
   "execution_count": null,
   "outputs": [],
   "source": [
    "def close(img, kernel_size=3, iter=1):\n",
    "    kernel = cv2.getStructuringElement(cv2.MORPH_ELLIPSE, (2 * kernel_size + 1, 2 * kernel_size + 1),\n",
    "                                       (kernel_size, kernel_size))\n",
    "    img = cv2.morphologyEx(img, cv2.MORPH_CLOSE, kernel, iterations=iter)\n",
    "    return img\n",
    "\n",
    "def erode(img, kernel_size=3, iter=1):\n",
    "    kernel = cv2.getStructuringElement(cv2.MORPH_ELLIPSE, (2 * kernel_size + 1, 2 * kernel_size + 1),\n",
    "                                       (kernel_size, kernel_size))\n",
    "    img = cv2.erode(img, kernel, iterations=iter)\n",
    "    return img\n",
    "\n",
    "\n",
    "def dilate(img, kernel_size=3, iter=1):\n",
    "    kernel = cv2.getStructuringElement(cv2.MORPH_ELLIPSE, (2 * kernel_size + 1, 2 * kernel_size + 1),\n",
    "                                       (kernel_size, kernel_size))\n",
    "    img = cv2.dilate(img, kernel, iterations=iter)\n",
    "    return img\n",
    "\n",
    "\n",
    "def find_and_fill_contour(img):\n",
    "    contours, hierar = cv2.findContours(img, cv2.RETR_EXTERNAL, cv2.CHAIN_APPROX_NONE)\n",
    "    return cv2.drawContours(contours, contours, -1, 255, thickness=cv2.FILLED)"
   ],
   "metadata": {
    "collapsed": false,
    "pycharm": {
     "name": "#%%\n"
    }
   }
  },
  {
   "cell_type": "code",
   "execution_count": null,
   "outputs": [],
   "source": [
    "img = cv2.imread(\"data/mask-outputs/direct-Fa_swan/010.png\", cv2.IMREAD_GRAYSCALE)\n",
    "img_truth = cv2.imread(\"data/sequences-train/swan-010.png\")\n",
    "plt.figure(figsize=(20, 20))\n",
    "plt.subplot(121)\n",
    "plt.axis('off')\n",
    "plt.imshow(img, cmap=\"gray\")\n",
    "plt.subplot(122)\n",
    "plt.axis('off')\n",
    "plt.imshow(img_truth, cmap='gray')"
   ],
   "metadata": {
    "collapsed": false,
    "pycharm": {
     "name": "#%%\n"
    }
   }
  },
  {
   "cell_type": "code",
   "execution_count": null,
   "outputs": [],
   "source": [
    "contour_img = find_and_fill_contour(img)\n",
    "plt.axis('off')\n",
    "plt.imshow(contour_img)"
   ],
   "metadata": {
    "collapsed": false,
    "pycharm": {
     "name": "#%%\n"
    }
   }
  },
  {
   "cell_type": "code",
   "execution_count": null,
   "outputs": [],
   "source": [
    "img_closed = close(img, kernel_size=1, iter=3)\n",
    "plt.axis('off')\n",
    "plt.imshow(img_closed, cmap=\"gray\")"
   ],
   "metadata": {
    "collapsed": false,
    "pycharm": {
     "name": "#%%\n"
    }
   }
  },
  {
   "cell_type": "code",
   "execution_count": 5,
   "outputs": [],
   "source": [
    "methods = [\"direct-HS\", \"seq-HS\", \"direct-LK\", \"seq-LK\", \"direct-Fa\", \"seq-Fa\"]"
   ],
   "metadata": {
    "collapsed": false,
    "pycharm": {
     "name": "#%%\n"
    }
   }
  },
  {
   "cell_type": "code",
   "execution_count": 6,
   "outputs": [
    {
     "name": "stderr",
     "output_type": "stream",
     "text": [
      "100%|██████████| 49/49 [00:00<00:00, 306.25it/s]\n",
      "100%|██████████| 49/49 [00:00<00:00, 267.76it/s]\n",
      "100%|██████████| 49/49 [00:00<00:00, 254.44it/s]\n",
      "100%|██████████| 49/49 [00:00<00:00, 221.72it/s]\n",
      "100%|██████████| 49/49 [00:00<00:00, 175.65it/s]\n",
      "100%|██████████| 49/49 [00:00<00:00, 141.12it/s]\n"
     ]
    }
   ],
   "source": [
    "for method in methods:\n",
    "    postpro.process_all_masks(sequence_name=\"swan\", method_name=method, masks_path=\"data/mask-outputs/\")"
   ],
   "metadata": {
    "collapsed": false,
    "pycharm": {
     "name": "#%%\n"
    }
   }
  },
  {
   "cell_type": "code",
   "execution_count": 4,
   "outputs": [
    {
     "name": "stderr",
     "output_type": "stream",
     "text": [
      "100%|██████████| 49/49 [00:00<00:00, 138.81it/s]\n"
     ]
    }
   ],
   "source": [
    "postpro.process_all_masks(sequence_name=\"swan\", method_name=\"seq-Fa\", masks_path=\"data/mask-outputs/\")"
   ],
   "metadata": {
    "collapsed": false,
    "pycharm": {
     "name": "#%%\n"
    }
   }
  },
  {
   "cell_type": "code",
   "execution_count": null,
   "outputs": [],
   "source": [],
   "metadata": {
    "collapsed": false,
    "pycharm": {
     "name": "#%%\n"
    }
   }
  }
 ],
 "metadata": {
  "kernelspec": {
   "display_name": "Python 3",
   "language": "python",
   "name": "python3"
  },
  "language_info": {
   "codemirror_mode": {
    "name": "ipython",
    "version": 2
   },
   "file_extension": ".py",
   "mimetype": "text/x-python",
   "name": "python",
   "nbconvert_exporter": "python",
   "pygments_lexer": "ipython2",
   "version": "2.7.6"
  }
 },
 "nbformat": 4,
 "nbformat_minor": 0
}