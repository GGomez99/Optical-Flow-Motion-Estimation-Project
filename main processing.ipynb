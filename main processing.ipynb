{
 "cells": [
  {
   "cell_type": "code",
   "execution_count": 1,
   "outputs": [],
   "source": [
    "import sys,os\n",
    "IN_COLAB = 'google.colab' in sys.modules"
   ],
   "metadata": {
    "collapsed": false,
    "pycharm": {
     "name": "#%%\n"
    }
   }
  },
  {
   "cell_type": "code",
   "execution_count": 2,
   "outputs": [],
   "source": [
    "if IN_COLAB:\n",
    "    os.chdir(\"/content/\")\n",
    "    #drive data path, needs to have sequences-train folder with all needed images/masks\n",
    "    data_path = \"/content/drive/MyDrive/DASCI/Computer\\ Vision/Optical\\ Flow\\ Project/data/\"\n",
    "\n",
    "    #get project and install dependencies\n",
    "    !git clone https://github.com/GGomez99/Optical-Flow-Motion-Estimation-Project.git\n",
    "    !pip install fire\n",
    "\n",
    "    #getting training data\n",
    "    from google.colab import drive\n",
    "    drive.mount('/content/drive')\n",
    "    !cp -r {data_path+\"sequences-train\"} /content/Optical-Flow-Motion-Estimation-Project/data/\n",
    "\n",
    "    #to enable imports and good relative paths for code execution\n",
    "    sys.path.append('/content/Optical-Flow-Motion-Estimation-Project')"
   ],
   "metadata": {
    "collapsed": false,
    "pycharm": {
     "name": "#%%\n"
    }
   }
  },
  {
   "cell_type": "code",
   "execution_count": 3,
   "metadata": {
    "collapsed": true,
    "pycharm": {
     "name": "#%%\n"
    }
   },
   "outputs": [],
   "source": [
    "os.chdir(\"/content/Optical-Flow-Motion-Estimation-Project/\")\n",
    "import segment, flow\n",
    "import utils.postprocess as postpro"
   ]
  },
  {
   "cell_type": "code",
   "execution_count": 4,
   "outputs": [],
   "source": [
    "sequences = [\"cow\",\"fish\"]\n",
    "methods = [\"raft\", \"Fa\"]\n",
    "sub_methods = [\"direct\", \"seq\"]"
   ],
   "metadata": {
    "collapsed": false,
    "pycharm": {
     "name": "#%%\n"
    }
   }
  },
  {
   "cell_type": "code",
   "execution_count": 5,
   "outputs": [
    {
     "name": "stdout",
     "output_type": "stream",
     "text": [
      "Processing all methods for sequence cow\n",
      "Processing 104 images\n",
      "Batch size :  1\n"
     ]
    },
    {
     "name": "stderr",
     "output_type": "stream",
     "text": [
      "RAFT: 100%|██████████| 103/103 [00:27<00:00,  3.73it/s]\n"
     ]
    },
    {
     "name": "stdout",
     "output_type": "stream",
     "text": [
      "Propagating all segmentation masks using direct method\n"
     ]
    },
    {
     "name": "stderr",
     "output_type": "stream",
     "text": [
      "100%|██████████| 103/103 [00:04<00:00, 23.06it/s]\n"
     ]
    },
    {
     "name": "stdout",
     "output_type": "stream",
     "text": [
      "Saving all generated masks to data/mask-outputs/direct-raft_cow\n"
     ]
    },
    {
     "name": "stderr",
     "output_type": "stream",
     "text": [
      "100%|██████████| 103/103 [00:00<00:00, 135.39it/s]\n"
     ]
    },
    {
     "name": "stdout",
     "output_type": "stream",
     "text": [
      "Processing 104 images\n",
      "Batch size :  1\n"
     ]
    },
    {
     "name": "stderr",
     "output_type": "stream",
     "text": [
      "RAFT: 100%|██████████| 103/103 [00:25<00:00,  4.10it/s]\n"
     ]
    },
    {
     "name": "stdout",
     "output_type": "stream",
     "text": [
      "Propagating all segmentation masks using sequential method\n"
     ]
    },
    {
     "name": "stderr",
     "output_type": "stream",
     "text": [
      "100%|██████████| 103/103 [00:04<00:00, 21.62it/s]\n"
     ]
    },
    {
     "name": "stdout",
     "output_type": "stream",
     "text": [
      "Saving all generated masks to data/mask-outputs/seq-raft_cow\n"
     ]
    },
    {
     "name": "stderr",
     "output_type": "stream",
     "text": [
      "100%|██████████| 103/103 [00:00<00:00, 143.02it/s]\n",
      "Farneback: 100%|██████████| 103/103 [00:05<00:00, 17.41it/s]\n"
     ]
    },
    {
     "name": "stdout",
     "output_type": "stream",
     "text": [
      "Propagating all segmentation masks using direct method\n"
     ]
    },
    {
     "name": "stderr",
     "output_type": "stream",
     "text": [
      "100%|██████████| 103/103 [00:03<00:00, 29.11it/s]\n"
     ]
    },
    {
     "name": "stdout",
     "output_type": "stream",
     "text": [
      "Saving all generated masks to data/mask-outputs/direct-Fa_cow\n"
     ]
    },
    {
     "name": "stderr",
     "output_type": "stream",
     "text": [
      "100%|██████████| 103/103 [00:00<00:00, 126.08it/s]\n",
      "Farneback: 100%|██████████| 103/103 [00:04<00:00, 20.79it/s]\n"
     ]
    },
    {
     "name": "stdout",
     "output_type": "stream",
     "text": [
      "Propagating all segmentation masks using sequential method\n"
     ]
    },
    {
     "name": "stderr",
     "output_type": "stream",
     "text": [
      "100%|██████████| 103/103 [00:01<00:00, 52.90it/s]\n"
     ]
    },
    {
     "name": "stdout",
     "output_type": "stream",
     "text": [
      "Saving all generated masks to data/mask-outputs/seq-Fa_cow\n"
     ]
    },
    {
     "name": "stderr",
     "output_type": "stream",
     "text": [
      "100%|██████████| 103/103 [00:00<00:00, 114.00it/s]\n"
     ]
    },
    {
     "name": "stdout",
     "output_type": "stream",
     "text": [
      "Processing all methods for sequence fish\n",
      "Processing 26 images\n",
      "Batch size :  1\n"
     ]
    },
    {
     "name": "stderr",
     "output_type": "stream",
     "text": [
      "RAFT: 100%|██████████| 25/25 [00:06<00:00,  3.57it/s]\n"
     ]
    },
    {
     "name": "stdout",
     "output_type": "stream",
     "text": [
      "Propagating all segmentation masks using direct method\n"
     ]
    },
    {
     "name": "stderr",
     "output_type": "stream",
     "text": [
      "100%|██████████| 25/25 [00:00<00:00, 1503.92it/s]\n"
     ]
    },
    {
     "name": "stdout",
     "output_type": "stream",
     "text": [
      "Saving all generated masks to data/mask-outputs/direct-raft_fish\n"
     ]
    },
    {
     "name": "stderr",
     "output_type": "stream",
     "text": [
      "100%|██████████| 25/25 [00:00<00:00, 103.34it/s]\n"
     ]
    },
    {
     "name": "stdout",
     "output_type": "stream",
     "text": [
      "Processing 26 images\n",
      "Batch size :  1\n"
     ]
    },
    {
     "name": "stderr",
     "output_type": "stream",
     "text": [
      "RAFT: 100%|██████████| 25/25 [00:07<00:00,  3.43it/s]\n"
     ]
    },
    {
     "name": "stdout",
     "output_type": "stream",
     "text": [
      "Propagating all segmentation masks using sequential method\n"
     ]
    },
    {
     "name": "stderr",
     "output_type": "stream",
     "text": [
      "100%|██████████| 25/25 [00:00<00:00, 373.78it/s]\n"
     ]
    },
    {
     "name": "stdout",
     "output_type": "stream",
     "text": [
      "Saving all generated masks to data/mask-outputs/seq-raft_fish\n"
     ]
    },
    {
     "name": "stderr",
     "output_type": "stream",
     "text": [
      "100%|██████████| 25/25 [00:00<00:00, 218.95it/s]\n",
      "Farneback: 100%|██████████| 25/25 [00:01<00:00, 19.97it/s]\n"
     ]
    },
    {
     "name": "stdout",
     "output_type": "stream",
     "text": [
      "Propagating all segmentation masks using direct method\n"
     ]
    },
    {
     "name": "stderr",
     "output_type": "stream",
     "text": [
      "100%|██████████| 25/25 [00:00<00:00, 1722.22it/s]\n"
     ]
    },
    {
     "name": "stdout",
     "output_type": "stream",
     "text": [
      "Saving all generated masks to data/mask-outputs/direct-Fa_fish\n"
     ]
    },
    {
     "name": "stderr",
     "output_type": "stream",
     "text": [
      "100%|██████████| 25/25 [00:00<00:00, 100.97it/s]\n",
      "Farneback: 100%|██████████| 25/25 [00:01<00:00, 20.02it/s]\n"
     ]
    },
    {
     "name": "stdout",
     "output_type": "stream",
     "text": [
      "Propagating all segmentation masks using sequential method\n"
     ]
    },
    {
     "name": "stderr",
     "output_type": "stream",
     "text": [
      "100%|██████████| 25/25 [00:00<00:00, 311.72it/s]\n"
     ]
    },
    {
     "name": "stdout",
     "output_type": "stream",
     "text": [
      "Saving all generated masks to data/mask-outputs/seq-Fa_fish\n"
     ]
    },
    {
     "name": "stderr",
     "output_type": "stream",
     "text": [
      "100%|██████████| 25/25 [00:00<00:00, 101.95it/s]\n"
     ]
    }
   ],
   "source": [
    "for sequence in sequences:\n",
    "    print(\"Processing all methods for sequence\", sequence)\n",
    "    for method in methods:\n",
    "        for sub_method in sub_methods:\n",
    "            full_method_name = sub_method+\"-\"+method\n",
    "            flow.main(data_folder=\"data\", sequence=sequence, method_name=full_method_name)\n",
    "            segment.main(data_path=\"data\", method_name=full_method_name, sequence=sequence)\n",
    "            postpro.process_all_masks(sequence_name=sequence, method_name=full_method_name, masks_path=\"data/mask-outputs/\")"
   ],
   "metadata": {
    "collapsed": false,
    "pycharm": {
     "name": "#%%\n"
    }
   }
  },
  {
   "cell_type": "code",
   "execution_count": 6,
   "outputs": [],
   "source": [
    "if IN_COLAB:\n",
    "    !cp -r /content/Optical-Flow-Motion-Estimation-Project/data/flows-outputs/* {data_path+\"flows-outputs/\"}\n",
    "    !cp -r /content/Optical-Flow-Motion-Estimation-Project/data/mask-outputs/* {data_path+\"mask-outputs/\"}"
   ],
   "metadata": {
    "collapsed": false,
    "pycharm": {
     "name": "#%%\n"
    }
   }
  }
 ],
 "metadata": {
  "kernelspec": {
   "display_name": "Python 3",
   "language": "python",
   "name": "python3"
  },
  "language_info": {
   "codemirror_mode": {
    "name": "ipython",
    "version": 2
   },
   "file_extension": ".py",
   "mimetype": "text/x-python",
   "name": "python",
   "nbconvert_exporter": "python",
   "pygments_lexer": "ipython2",
   "version": "2.7.6"
  }
 },
 "nbformat": 4,
 "nbformat_minor": 0
}