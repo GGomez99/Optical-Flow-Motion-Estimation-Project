{
 "cells": [
  {
   "cell_type": "code",
   "execution_count": 1,
   "metadata": {
    "collapsed": true,
    "pycharm": {
     "name": "#%%\n"
    }
   },
   "outputs": [],
   "source": [
    "import segment, flow\n",
    "import utils.postprocess as postpro"
   ]
  },
  {
   "cell_type": "code",
   "execution_count": 2,
   "outputs": [],
   "source": [
    "sequences = [\"bag\", \"bear\", \"book\", \"camel\", \"rhino\", \"swan\"]\n",
    "methods = [\"HS\", \"LK\", \"Fa\", \"raft\"]\n",
    "sub_methods = [\"direct\", \"seq\"]"
   ],
   "metadata": {
    "collapsed": false,
    "pycharm": {
     "name": "#%%\n"
    }
   }
  },
  {
   "cell_type": "code",
   "execution_count": 3,
   "outputs": [
    {
     "name": "stdout",
     "output_type": "stream",
     "text": [
      "Processing all methods for sequence bag\n"
     ]
    },
    {
     "name": "stderr",
     "output_type": "stream",
     "text": [
      "Horn_Schunck: 100%|██████████| 5/5 [00:09<00:00,  1.93s/it]\n"
     ]
    },
    {
     "name": "stdout",
     "output_type": "stream",
     "text": [
      "Propagating all segmentation masks using direct method\n"
     ]
    },
    {
     "name": "stderr",
     "output_type": "stream",
     "text": [
      "100%|██████████| 195/195 [00:03<00:00, 64.77it/s]\n"
     ]
    },
    {
     "name": "stdout",
     "output_type": "stream",
     "text": [
      "Saving all generated masks to data/mask-outputs/direct-HS_bag\n"
     ]
    },
    {
     "name": "stderr",
     "output_type": "stream",
     "text": [
      "195it [00:04, 42.63it/s]\n",
      "100%|██████████| 195/195 [00:01<00:00, 110.13it/s]\n",
      "Horn_Schunck: 100%|██████████| 5/5 [00:09<00:00,  1.96s/it]\n"
     ]
    },
    {
     "name": "stdout",
     "output_type": "stream",
     "text": [
      "Propagating all segmentation masks using sequential method\n"
     ]
    },
    {
     "name": "stderr",
     "output_type": "stream",
     "text": [
      "100%|██████████| 195/195 [00:04<00:00, 46.71it/s]\n"
     ]
    },
    {
     "name": "stdout",
     "output_type": "stream",
     "text": [
      "Saving all generated masks to data/mask-outputs/seq-HS_bag\n"
     ]
    },
    {
     "name": "stderr",
     "output_type": "stream",
     "text": [
      "195it [00:03, 54.55it/s]\n",
      "100%|██████████| 195/195 [00:01<00:00, 111.28it/s]\n",
      "Farneback:   0%|          | 0/195 [00:00<?, ?it/s]\n"
     ]
    },
    {
     "ename": "TypeError",
     "evalue": "not enough arguments: expected at least 5, got 2",
     "output_type": "error",
     "traceback": [
      "\u001B[1;31m---------------------------------------------------------------------------\u001B[0m",
      "\u001B[1;31mTypeError\u001B[0m                                 Traceback (most recent call last)",
      "Cell \u001B[1;32mIn [3], line 6\u001B[0m\n\u001B[0;32m      4\u001B[0m \u001B[38;5;28;01mfor\u001B[39;00m sub_method \u001B[38;5;129;01min\u001B[39;00m sub_methods:\n\u001B[0;32m      5\u001B[0m     full_method_name \u001B[38;5;241m=\u001B[39m sub_method\u001B[38;5;241m+\u001B[39m\u001B[38;5;124m\"\u001B[39m\u001B[38;5;124m-\u001B[39m\u001B[38;5;124m\"\u001B[39m\u001B[38;5;241m+\u001B[39mmethod\n\u001B[1;32m----> 6\u001B[0m     \u001B[43mflow\u001B[49m\u001B[38;5;241;43m.\u001B[39;49m\u001B[43mmain\u001B[49m\u001B[43m(\u001B[49m\u001B[43mdata_folder\u001B[49m\u001B[38;5;241;43m=\u001B[39;49m\u001B[38;5;124;43m\"\u001B[39;49m\u001B[38;5;124;43mdata\u001B[39;49m\u001B[38;5;124;43m\"\u001B[39;49m\u001B[43m,\u001B[49m\u001B[43m \u001B[49m\u001B[43msequence\u001B[49m\u001B[38;5;241;43m=\u001B[39;49m\u001B[43msequence\u001B[49m\u001B[43m,\u001B[49m\u001B[43m \u001B[49m\u001B[43mmethod_name\u001B[49m\u001B[38;5;241;43m=\u001B[39;49m\u001B[43mfull_method_name\u001B[49m\u001B[43m)\u001B[49m\n\u001B[0;32m      7\u001B[0m     segment\u001B[38;5;241m.\u001B[39mmain(data_path\u001B[38;5;241m=\u001B[39m\u001B[38;5;124m\"\u001B[39m\u001B[38;5;124mdata\u001B[39m\u001B[38;5;124m\"\u001B[39m, method_name\u001B[38;5;241m=\u001B[39mfull_method_name, sequence\u001B[38;5;241m=\u001B[39msequence)\n\u001B[0;32m      8\u001B[0m     postpro\u001B[38;5;241m.\u001B[39mprocess_all_masks(sequence_name\u001B[38;5;241m=\u001B[39msequence, method_name\u001B[38;5;241m=\u001B[39mfull_method_name, masks_path\u001B[38;5;241m=\u001B[39m\u001B[38;5;124m\"\u001B[39m\u001B[38;5;124mdata/mask-outputs/\u001B[39m\u001B[38;5;124m\"\u001B[39m)\n",
      "File \u001B[1;32m~\\PycharmProjects\\Computer Vision\\project\\flow.py:114\u001B[0m, in \u001B[0;36mmain\u001B[1;34m(data_folder, sequence, method_name)\u001B[0m\n\u001B[0;32m    111\u001B[0m \u001B[38;5;28;01melse\u001B[39;00m:\n\u001B[0;32m    112\u001B[0m     \u001B[38;5;28;01mraise\u001B[39;00m \u001B[38;5;167;01mException\u001B[39;00m(\u001B[38;5;124m\"\u001B[39m\u001B[38;5;124mMethod \u001B[39m\u001B[38;5;124m\"\u001B[39m \u001B[38;5;241m+\u001B[39m method_name \u001B[38;5;241m+\u001B[39m \u001B[38;5;124m\"\u001B[39m\u001B[38;5;124m not available\u001B[39m\u001B[38;5;124m\"\u001B[39m)\n\u001B[1;32m--> 114\u001B[0m flows \u001B[38;5;241m=\u001B[39m \u001B[43mcompute_flow_and_save\u001B[49m\u001B[43m(\u001B[49m\n\u001B[0;32m    115\u001B[0m \u001B[43m    \u001B[49m\u001B[43mimages\u001B[49m\u001B[43m,\u001B[49m\n\u001B[0;32m    116\u001B[0m \u001B[43m    \u001B[49m\u001B[43moutput_path\u001B[49m\u001B[38;5;241;43m=\u001B[39;49m\u001B[43mos\u001B[49m\u001B[38;5;241;43m.\u001B[39;49m\u001B[43mpath\u001B[49m\u001B[38;5;241;43m.\u001B[39;49m\u001B[43mjoin\u001B[49m\u001B[43m(\u001B[49m\u001B[43mdata_folder\u001B[49m\u001B[43m,\u001B[49m\u001B[43m \u001B[49m\u001B[38;5;124;43m'\u001B[39;49m\u001B[38;5;124;43mflows-outputs\u001B[39;49m\u001B[38;5;124;43m'\u001B[39;49m\u001B[43m,\u001B[49m\u001B[43m \u001B[49m\u001B[43mmethod_name\u001B[49m\u001B[43m \u001B[49m\u001B[38;5;241;43m+\u001B[39;49m\u001B[43m \u001B[49m\u001B[38;5;124;43m\"\u001B[39;49m\u001B[38;5;124;43m_\u001B[39;49m\u001B[38;5;124;43m\"\u001B[39;49m\u001B[43m \u001B[49m\u001B[38;5;241;43m+\u001B[39;49m\u001B[43m \u001B[49m\u001B[43msequence\u001B[49m\u001B[43m \u001B[49m\u001B[38;5;241;43m+\u001B[39;49m\u001B[43m \u001B[49m\u001B[38;5;124;43m'\u001B[39;49m\u001B[38;5;124;43m_flow.pt\u001B[39;49m\u001B[38;5;124;43m'\u001B[39;49m\u001B[43m)\u001B[49m\u001B[43m,\u001B[49m\n\u001B[0;32m    117\u001B[0m \u001B[43m    \u001B[49m\u001B[43mflow_func\u001B[49m\u001B[38;5;241;43m=\u001B[39;49m\u001B[43mselected_flow_func\u001B[49m\u001B[43m)\u001B[49m\n\u001B[0;32m    119\u001B[0m save_flow_imgs(\n\u001B[0;32m    120\u001B[0m     output_path\u001B[38;5;241m=\u001B[39mos\u001B[38;5;241m.\u001B[39mpath\u001B[38;5;241m.\u001B[39mjoin(data_folder, \u001B[38;5;124m'\u001B[39m\u001B[38;5;124mflows-img-outputs\u001B[39m\u001B[38;5;124m'\u001B[39m),\n\u001B[0;32m    121\u001B[0m     flows\u001B[38;5;241m=\u001B[39mflows \u001B[38;5;241m/\u001B[39m torch\u001B[38;5;241m.\u001B[39mnorm(flows, dim\u001B[38;5;241m=\u001B[39m\u001B[38;5;241m1\u001B[39m, keepdim\u001B[38;5;241m=\u001B[39m\u001B[38;5;28;01mTrue\u001B[39;00m),\n\u001B[0;32m    122\u001B[0m     method_name\u001B[38;5;241m=\u001B[39mmethod_name\u001B[38;5;241m+\u001B[39m\u001B[38;5;124m\"\u001B[39m\u001B[38;5;124m_\u001B[39m\u001B[38;5;124m\"\u001B[39m\u001B[38;5;241m+\u001B[39msequence)\n",
      "File \u001B[1;32m~\\PycharmProjects\\Computer Vision\\project\\flow.py:85\u001B[0m, in \u001B[0;36mcompute_flow_and_save\u001B[1;34m(images, output_path, flow_func)\u001B[0m\n\u001B[0;32m     80\u001B[0m \u001B[38;5;28;01mdef\u001B[39;00m \u001B[38;5;21mcompute_flow_and_save\u001B[39m(images, output_path, flow_func\u001B[38;5;241m=\u001B[39mRAFT_compute_flow_seq):\n\u001B[0;32m     81\u001B[0m     \u001B[38;5;124;03m\"\"\"\u001B[39;00m\n\u001B[0;32m     82\u001B[0m \u001B[38;5;124;03m    Computes flow using the given flow_func function and saves it in a npy.\u001B[39;00m\n\u001B[0;32m     83\u001B[0m \u001B[38;5;124;03m    \"\"\"\u001B[39;00m\n\u001B[1;32m---> 85\u001B[0m     flows \u001B[38;5;241m=\u001B[39m \u001B[43mflow_func\u001B[49m\u001B[43m(\u001B[49m\u001B[43mimages\u001B[49m\u001B[43m)\u001B[49m\n\u001B[0;32m     86\u001B[0m     torch\u001B[38;5;241m.\u001B[39msave(flows, output_path)\n\u001B[0;32m     88\u001B[0m     \u001B[38;5;28;01mreturn\u001B[39;00m flows\n",
      "File \u001B[1;32m~\\PycharmProjects\\Computer Vision\\project\\models\\lucas_kanade\\optical_flow.py:85\u001B[0m, in \u001B[0;36mcompute_flow_direct\u001B[1;34m(images)\u001B[0m\n\u001B[0;32m     83\u001B[0m \u001B[38;5;28;01mfor\u001B[39;00m image \u001B[38;5;129;01min\u001B[39;00m tqdm(images[\u001B[38;5;241m1\u001B[39m:], desc\u001B[38;5;241m=\u001B[39m\u001B[38;5;124m\"\u001B[39m\u001B[38;5;124mFarneback\u001B[39m\u001B[38;5;124m\"\u001B[39m):\n\u001B[0;32m     84\u001B[0m     current_image \u001B[38;5;241m=\u001B[39m filters\u001B[38;5;241m.\u001B[39mgaussian(image, GAUSSIAN_SIGMA)\n\u001B[1;32m---> 85\u001B[0m     flows\u001B[38;5;241m.\u001B[39mappend(\u001B[43mlucas_kanade\u001B[49m\u001B[43m(\u001B[49m\u001B[43mfirst_image\u001B[49m\u001B[43m,\u001B[49m\u001B[43m \u001B[49m\u001B[43mcurrent_image\u001B[49m\u001B[43m)\u001B[49m)\n\u001B[0;32m     87\u001B[0m tensor_flows \u001B[38;5;241m=\u001B[39m torch\u001B[38;5;241m.\u001B[39mTensor(flows)\n\u001B[0;32m     89\u001B[0m \u001B[38;5;28;01mreturn\u001B[39;00m tensor_flows\u001B[38;5;241m.\u001B[39mpermute(\u001B[38;5;241m0\u001B[39m, \u001B[38;5;241m3\u001B[39m, \u001B[38;5;241m1\u001B[39m, \u001B[38;5;241m2\u001B[39m)\n",
      "\u001B[1;31mTypeError\u001B[0m: not enough arguments: expected at least 5, got 2"
     ]
    }
   ],
   "source": [
    "for sequence in sequences:\n",
    "    print(\"Processing all methods for sequence\", sequence)\n",
    "    for method in methods:\n",
    "        for sub_method in sub_methods:\n",
    "            full_method_name = sub_method+\"-\"+method\n",
    "            flow.main(data_folder=\"data\", sequence=sequence, method_name=full_method_name)\n",
    "            segment.main(data_path=\"data\", method_name=full_method_name, sequence=sequence)\n",
    "            postpro.process_all_masks(sequence_name=sequence, method_name=full_method_name, masks_path=\"data/mask-outputs/\")"
   ],
   "metadata": {
    "collapsed": false,
    "pycharm": {
     "name": "#%%\n"
    }
   }
  },
  {
   "cell_type": "code",
   "execution_count": null,
   "outputs": [],
   "source": [],
   "metadata": {
    "collapsed": false,
    "pycharm": {
     "name": "#%%\n"
    }
   }
  }
 ],
 "metadata": {
  "kernelspec": {
   "display_name": "Python 3",
   "language": "python",
   "name": "python3"
  },
  "language_info": {
   "codemirror_mode": {
    "name": "ipython",
    "version": 2
   },
   "file_extension": ".py",
   "mimetype": "text/x-python",
   "name": "python",
   "nbconvert_exporter": "python",
   "pygments_lexer": "ipython2",
   "version": "2.7.6"
  }
 },
 "nbformat": 4,
 "nbformat_minor": 0
}