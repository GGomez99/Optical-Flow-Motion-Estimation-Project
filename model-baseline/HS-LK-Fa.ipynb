{
 "nbformat": 4,
 "nbformat_minor": 0,
 "metadata": {
  "kernelspec": {
   "display_name": "Python 3",
   "language": "python",
   "name": "python3"
  },
  "language_info": {
   "codemirror_mode": {
    "name": "ipython",
    "version": 2
   },
   "file_extension": ".py",
   "mimetype": "text/x-python",
   "name": "python",
   "nbconvert_exporter": "python",
   "pygments_lexer": "ipython2",
   "version": "2.7.13"
  },
  "colab": {
   "provenance": []
  }
 },
 "cells": [
  {
   "cell_type": "markdown",
   "metadata": {
    "id": "ipC_8y4-aRkG",
    "pycharm": {
     "name": "#%% md\n"
    }
   },
   "source": [
    "# UE Computer Vision | Project : Visual tracking of video objects\n",
    "# Baseline models"
   ]
  },
  {
   "cell_type": "code",
   "metadata": {
    "collapsed": true,
    "id": "0iLpQQl6aRkK",
    "executionInfo": {
     "status": "ok",
     "timestamp": 1675721582650,
     "user_tz": -60,
     "elapsed": 193,
     "user": {
      "displayName": "Pierre-Henri Conze",
      "userId": "10921126790911374273"
     }
    },
    "pycharm": {
     "name": "#%%\n"
    }
   },
   "source": [
    "import numpy as np\n",
    "import cv2\n",
    "from skimage import io\n",
    "import os, glob\n",
    "from pathlib import Path\n",
    "from scipy.interpolate import interp2d\n",
    "from scipy.ndimage import convolve\n",
    "from skimage import filters\n",
    "from skimage.color import rgb2gray\n",
    "import matplotlib.pyplot as plt\n",
    "from tqdm import tqdm"
   ],
   "execution_count": 41,
   "outputs": []
  },
  {
   "cell_type": "code",
   "execution_count": 22,
   "outputs": [],
   "source": [
    "##Params\n",
    "sequence_name = \"swan\"\n",
    "gaussian_filter_sigma = 1.5\n",
    "\n",
    "method_name = \"HS\"\n",
    "HS_lambda = .01\n",
    "\n",
    "#method_name = \"LK\"\n",
    "#method_name = \"Fa\""
   ],
   "metadata": {
    "collapsed": false,
    "pycharm": {
     "name": "#%%\n"
    }
   }
  },
  {
   "cell_type": "code",
   "execution_count": 14,
   "outputs": [],
   "source": [
    "#get number frames\n",
    "files = glob.glob(\"../data/sequences-train/\"+sequence_name+\"-*.png\")\n",
    "im_begin = 1\n",
    "im_end = len(files)"
   ],
   "metadata": {
    "collapsed": false,
    "pycharm": {
     "name": "#%%\n"
    }
   }
  },
  {
   "cell_type": "markdown",
   "source": [
    "## Util functions"
   ],
   "metadata": {
    "collapsed": false,
    "pycharm": {
     "name": "#%% md\n"
    }
   }
  },
  {
   "cell_type": "code",
   "execution_count": 15,
   "outputs": [],
   "source": [
    "def estimate_derivatives(img1, img2):\n",
    "    kernelX = np.array([[-1, -1],[1, 1]])  # kernel for computing d/dx\n",
    "    kernelY = np.array([[-1, 1],[ -1, 1]]) # kernel for computing d/dy\n",
    "    kernelT = np.ones((2,2))*.25\n",
    "\n",
    "    fx = convolve(img1+img2/2, kernelX)\n",
    "    fy = convolve(img1+img2/2, kernelY)\n",
    "    ft = convolve(img1 - img2, kernelT)\n",
    "    return fx, fy, ft"
   ],
   "metadata": {
    "collapsed": false,
    "pycharm": {
     "name": "#%%\n"
    }
   }
  },
  {
   "cell_type": "code",
   "execution_count": 16,
   "outputs": [],
   "source": [
    "def propagate_mask(flow, img_current, mask_begin):\n",
    "    new_mask = np.zeros(shape=img_current.shape[:2])\n",
    "    for x in range(img_current.shape[0]):\n",
    "        for y in range(img_current.shape[1]):\n",
    "            x_, y_ = np.rint(x+flow[x,y,1]).astype(int), np.rint(y+flow[x,y,0]).astype(int)\n",
    "            if (x_>=0) and (x_<img_current.shape[0]) and (y_>=0) and (y_<img_current.shape[1]):\n",
    "                if mask_begin[x_,y_] > 0:\n",
    "                    new_mask[x,y] = 255\n",
    "    return new_mask.astype(np.uint8)"
   ],
   "metadata": {
    "collapsed": false,
    "pycharm": {
     "name": "#%%\n"
    }
   }
  },
  {
   "cell_type": "code",
   "execution_count": 33,
   "outputs": [],
   "source": [
    "def flow_concatenation(unary_flow, to_ref_flow):\n",
    "    flow = np.zeros((unary_flow.shape[0],unary_flow.shape[1],2), dtype=np.float64)\n",
    "    x0 = np.arange(0, unary_flow.shape[0])\n",
    "    y0 = np.arange(0, unary_flow.shape[1])\n",
    "    xx, yy = np.meshgrid(x0, y0)\n",
    "    z = to_ref_flow[xx,yy,1]\n",
    "    fx = interp2d(x0,y0,z,kind='cubic')\n",
    "    z = to_ref_flow[xx,yy,0]\n",
    "    fy = interp2d(x0,y0,z,kind='cubic')\n",
    "    for x in range(unary_flow.shape[0]):\n",
    "        for y in range(unary_flow.shape[1]):\n",
    "            flow_x = fx(x+unary_flow[x,y,1], y+unary_flow[x,y,0])\n",
    "            flow_y = fy(x+unary_flow[x,y,1], y+unary_flow[x,y,0])\n",
    "            flow[x,y,1] = unary_flow[x,y,1] + flow_x\n",
    "            flow[x,y,0] = unary_flow[x,y,0] + flow_y\n",
    "    return flow"
   ],
   "metadata": {
    "collapsed": false,
    "pycharm": {
     "name": "#%%\n"
    }
   }
  },
  {
   "cell_type": "markdown",
   "source": [
    "## Flow functions for HS, LK and Fa"
   ],
   "metadata": {
    "collapsed": false,
    "pycharm": {
     "name": "#%% md\n"
    }
   }
  },
  {
   "cell_type": "code",
   "execution_count": 17,
   "outputs": [],
   "source": [
    "def lucas_kanade(img1, img2, window_size=21, tau=1e-2):\n",
    "    w = int(window_size/2)\n",
    "    fx, fy, ft = estimate_derivatives(img1, img2)\n",
    "    u = np.zeros(img1.shape)\n",
    "    v = np.zeros(img1.shape)\n",
    "    for i in range(w, img1.shape[0]-w):\n",
    "        for j in range(w, img1.shape[1]-w):\n",
    "            Ix = fx[i-w:i+w+1, j-w:j+w+1].flatten()\n",
    "            Iy = fy[i-w:i+w+1, j-w:j+w+1].flatten()\n",
    "            It = ft[i-w:i+w+1, j-w:j+w+1].flatten()\n",
    "            b = np.reshape(It, (It.shape[0],1))\n",
    "            A = np.vstack((Ix, Iy)).T\n",
    "            if np.min(abs(np.linalg.eigvals(np.matmul(A.T, A)))) >= tau:\n",
    "                nu = np.matmul(np.linalg.pinv(A), b)\n",
    "                u[i,j]=nu[0]\n",
    "                v[i,j]=nu[1]\n",
    "    flow = np.zeros((u.shape[0],u.shape[1],2))\n",
    "    flow[:,:,0], flow[:,:,1]  = -v, -u\n",
    "    return flow"
   ],
   "metadata": {
    "collapsed": false,
    "pycharm": {
     "name": "#%%\n"
    }
   }
  },
  {
   "cell_type": "code",
   "execution_count": 18,
   "outputs": [],
   "source": [
    "def farneback(img1, img2):\n",
    "    flow = np.zeros((img1.shape[0],img1.shape[1],2))\n",
    "    img1 = (img1*255.).astype(np.uint8)\n",
    "    img2 = (img2*255.).astype(np.uint8)\n",
    "    return cv2.calcOpticalFlowFarneback(img1, img2, flow, pyr_scale=0.5, levels=3, winsize=7, iterations=3, poly_n=5, poly_sigma=1.2, flags=0)"
   ],
   "metadata": {
    "collapsed": false,
    "pycharm": {
     "name": "#%%\n"
    }
   }
  },
  {
   "cell_type": "code",
   "execution_count": 19,
   "outputs": [],
   "source": [
    "def horn_schunck(img1, img2, lambda_=HS_lambda, Niter=200):\n",
    "    kernelA = np.array([[1./12,1./6,1./12],[1./6,0,1./6], [1./12,1./6,1./12]], float)\n",
    "    flow = np.zeros((img1.shape[0], img1.shape[1], 2))\n",
    "    fx, fy, ft = estimate_derivatives(img1, img2)\n",
    "\n",
    "    for it in range(Niter):\n",
    "        avg_flow_u = convolve(flow[:,:,1], kernelA)\n",
    "        avg_flow_v = convolve(flow[:,:,0], kernelA)\n",
    "\n",
    "        flow[:,:,1] = avg_flow_u - fx * (fx*avg_flow_u + fy*avg_flow_v + ft)/(fx*fx + fy*fy + lambda_)\n",
    "        flow[:,:,0] = avg_flow_v - fy * (fx*avg_flow_u + fy*avg_flow_v + ft)/(fx*fx + fy*fy + lambda_)\n",
    "\n",
    "    return flow"
   ],
   "metadata": {
    "collapsed": false,
    "pycharm": {
     "name": "#%%\n"
    }
   }
  },
  {
   "cell_type": "code",
   "execution_count": 20,
   "outputs": [],
   "source": [
    "def compute_flow(img1, img2):\n",
    "    if method_name == \"HS\":\n",
    "        return horn_schunck(img1, img2)\n",
    "    elif method_name == \"LK\":\n",
    "        return lucas_kanade(img1, img2)\n",
    "    else:\n",
    "        return farneback(img1, img2)"
   ],
   "metadata": {
    "collapsed": false,
    "pycharm": {
     "name": "#%%\n"
    }
   }
  },
  {
   "cell_type": "markdown",
   "source": [
    "## Direct integration"
   ],
   "metadata": {
    "collapsed": false,
    "pycharm": {
     "name": "#%% md\n"
    }
   }
  },
  {
   "cell_type": "code",
   "execution_count": 25,
   "outputs": [],
   "source": [
    "#create directory to save files\n",
    "save_dir = \"../data/mask-outputs/direct-\"+method_name+\"_\"+sequence_name\n",
    "Path(save_dir).mkdir(parents=True, exist_ok=True)"
   ],
   "metadata": {
    "collapsed": false,
    "pycharm": {
     "name": "#%%\n"
    }
   }
  },
  {
   "cell_type": "code",
   "execution_count": null,
   "outputs": [],
   "source": [
    "img_begin = io.imread('../data/sequences-train/'+sequence_name+'-%0*d.bmp'%(3,im_begin)).astype(np.float32)/255.\n",
    "mask_begin = io.imread('../data/sequences-train/'+sequence_name+'-%0*d.png'%(3,im_begin))\n",
    "img_begin = filters.gaussian(rgb2gray(img_begin), gaussian_filter_sigma)\n",
    "\n",
    "print(\"Processing sequence \" + sequence_name + \" with direct propagation using \" + method_name)\n",
    "for im in tqdm(range(im_begin+1,im_end+1)):\n",
    "    img_current_full = io.imread('../data/sequences-train/'+sequence_name+'-%0*d.bmp'%(3,im)).astype(np.float32)/255.\n",
    "    img_current = filters.gaussian(rgb2gray(img_current_full), gaussian_filter_sigma)\n",
    "\n",
    "    flow = compute_flow(img_begin, img_current)\n",
    "    propagation_mask = propagate_mask(flow, img_current, mask_begin)\n",
    "\n",
    "    plt.imsave(save_dir+'/%0*d.png'%(3,im), propagation_mask, cmap=\"gray\")\n",
    "\n",
    "    plt.show()"
   ],
   "metadata": {
    "collapsed": false,
    "pycharm": {
     "name": "#%%\n",
     "is_executing": true
    }
   }
  },
  {
   "cell_type": "markdown",
   "source": [
    "## Sequential integration"
   ],
   "metadata": {
    "collapsed": false,
    "pycharm": {
     "name": "#%% md\n"
    }
   }
  },
  {
   "cell_type": "code",
   "execution_count": 34,
   "outputs": [],
   "source": [
    "#create directory to save files\n",
    "save_dir = \"../data/mask-outputs/seq-\"+method_name+\"_\"+sequence_name\n",
    "Path(save_dir).mkdir(parents=True, exist_ok=True)"
   ],
   "metadata": {
    "collapsed": false,
    "pycharm": {
     "name": "#%%\n"
    }
   }
  },
  {
   "cell_type": "code",
   "execution_count": 44,
   "outputs": [
    {
     "name": "stdout",
     "output_type": "stream",
     "text": [
      "Processing sequence swan with sequential propagation using HS\n"
     ]
    },
    {
     "name": "stderr",
     "output_type": "stream",
     "text": [
      "  0%|          | 0/49 [00:05<?, ?it/s]\n"
     ]
    },
    {
     "ename": "KeyboardInterrupt",
     "evalue": "",
     "output_type": "error",
     "traceback": [
      "\u001B[1;31m---------------------------------------------------------------------------\u001B[0m",
      "\u001B[1;31mKeyboardInterrupt\u001B[0m                         Traceback (most recent call last)",
      "Cell \u001B[1;32mIn [44], line 20\u001B[0m\n\u001B[0;32m     17\u001B[0m flow \u001B[38;5;241m=\u001B[39m compute_flow(img_previous, img_current)\n\u001B[0;32m     18\u001B[0m img_previous \u001B[38;5;241m=\u001B[39m img_current\n\u001B[1;32m---> 20\u001B[0m to_ref_flow \u001B[38;5;241m=\u001B[39m \u001B[43mflow_concatenation\u001B[49m\u001B[43m(\u001B[49m\u001B[43mflow\u001B[49m\u001B[43m,\u001B[49m\u001B[43m \u001B[49m\u001B[43mto_ref_flow\u001B[49m\u001B[43m)\u001B[49m\n\u001B[0;32m     21\u001B[0m propagation_mask \u001B[38;5;241m=\u001B[39m propagate_mask(to_ref_flow, img_current, mask_begin)\n\u001B[0;32m     23\u001B[0m plt\u001B[38;5;241m.\u001B[39mimsave(save_dir\u001B[38;5;241m+\u001B[39m\u001B[38;5;124m'\u001B[39m\u001B[38;5;124m/\u001B[39m\u001B[38;5;132;01m%0*d\u001B[39;00m\u001B[38;5;124m.png\u001B[39m\u001B[38;5;124m'\u001B[39m\u001B[38;5;241m%\u001B[39m(\u001B[38;5;241m3\u001B[39m,im), propagation_mask, cmap\u001B[38;5;241m=\u001B[39m\u001B[38;5;124m\"\u001B[39m\u001B[38;5;124mgray\u001B[39m\u001B[38;5;124m\"\u001B[39m)\n",
      "Cell \u001B[1;32mIn [33], line 13\u001B[0m, in \u001B[0;36mflow_concatenation\u001B[1;34m(unary_flow, to_ref_flow)\u001B[0m\n\u001B[0;32m     11\u001B[0m \u001B[38;5;28;01mfor\u001B[39;00m y \u001B[38;5;129;01min\u001B[39;00m \u001B[38;5;28mrange\u001B[39m(unary_flow\u001B[38;5;241m.\u001B[39mshape[\u001B[38;5;241m1\u001B[39m]):\n\u001B[0;32m     12\u001B[0m     flow_x \u001B[38;5;241m=\u001B[39m fx(x\u001B[38;5;241m+\u001B[39munary_flow[x,y,\u001B[38;5;241m1\u001B[39m], y\u001B[38;5;241m+\u001B[39munary_flow[x,y,\u001B[38;5;241m0\u001B[39m])\n\u001B[1;32m---> 13\u001B[0m     flow_y \u001B[38;5;241m=\u001B[39m \u001B[43mfy\u001B[49m\u001B[43m(\u001B[49m\u001B[43mx\u001B[49m\u001B[38;5;241;43m+\u001B[39;49m\u001B[43munary_flow\u001B[49m\u001B[43m[\u001B[49m\u001B[43mx\u001B[49m\u001B[43m,\u001B[49m\u001B[43my\u001B[49m\u001B[43m,\u001B[49m\u001B[38;5;241;43m1\u001B[39;49m\u001B[43m]\u001B[49m\u001B[43m,\u001B[49m\u001B[43m \u001B[49m\u001B[43my\u001B[49m\u001B[38;5;241;43m+\u001B[39;49m\u001B[43munary_flow\u001B[49m\u001B[43m[\u001B[49m\u001B[43mx\u001B[49m\u001B[43m,\u001B[49m\u001B[43my\u001B[49m\u001B[43m,\u001B[49m\u001B[38;5;241;43m0\u001B[39;49m\u001B[43m]\u001B[49m\u001B[43m)\u001B[49m\n\u001B[0;32m     14\u001B[0m     flow[x,y,\u001B[38;5;241m1\u001B[39m] \u001B[38;5;241m=\u001B[39m unary_flow[x,y,\u001B[38;5;241m1\u001B[39m] \u001B[38;5;241m+\u001B[39m flow_x\n\u001B[0;32m     15\u001B[0m     flow[x,y,\u001B[38;5;241m0\u001B[39m] \u001B[38;5;241m=\u001B[39m unary_flow[x,y,\u001B[38;5;241m0\u001B[39m] \u001B[38;5;241m+\u001B[39m flow_y\n",
      "File \u001B[1;32m~\\AppData\\Local\\Programs\\Python\\Python310\\lib\\site-packages\\scipy\\interpolate\\_interpolate.py:289\u001B[0m, in \u001B[0;36minterp2d.__call__\u001B[1;34m(self, x, y, dx, dy, assume_sorted)\u001B[0m\n\u001B[0;32m    287\u001B[0m \u001B[38;5;28;01mif\u001B[39;00m \u001B[38;5;129;01mnot\u001B[39;00m assume_sorted:\n\u001B[0;32m    288\u001B[0m     x \u001B[38;5;241m=\u001B[39m np\u001B[38;5;241m.\u001B[39msort(x, kind\u001B[38;5;241m=\u001B[39m\u001B[38;5;124m\"\u001B[39m\u001B[38;5;124mmergesort\u001B[39m\u001B[38;5;124m\"\u001B[39m)\n\u001B[1;32m--> 289\u001B[0m     y \u001B[38;5;241m=\u001B[39m \u001B[43mnp\u001B[49m\u001B[38;5;241;43m.\u001B[39;49m\u001B[43msort\u001B[49m\u001B[43m(\u001B[49m\u001B[43my\u001B[49m\u001B[43m,\u001B[49m\u001B[43m \u001B[49m\u001B[43mkind\u001B[49m\u001B[38;5;241;43m=\u001B[39;49m\u001B[38;5;124;43m\"\u001B[39;49m\u001B[38;5;124;43mmergesort\u001B[39;49m\u001B[38;5;124;43m\"\u001B[39;49m\u001B[43m)\u001B[49m\n\u001B[0;32m    291\u001B[0m \u001B[38;5;28;01mif\u001B[39;00m \u001B[38;5;28mself\u001B[39m\u001B[38;5;241m.\u001B[39mbounds_error \u001B[38;5;129;01mor\u001B[39;00m \u001B[38;5;28mself\u001B[39m\u001B[38;5;241m.\u001B[39mfill_value \u001B[38;5;129;01mis\u001B[39;00m \u001B[38;5;129;01mnot\u001B[39;00m \u001B[38;5;28;01mNone\u001B[39;00m:\n\u001B[0;32m    292\u001B[0m     out_of_bounds_x \u001B[38;5;241m=\u001B[39m (x \u001B[38;5;241m<\u001B[39m \u001B[38;5;28mself\u001B[39m\u001B[38;5;241m.\u001B[39mx_min) \u001B[38;5;241m|\u001B[39m (x \u001B[38;5;241m>\u001B[39m \u001B[38;5;28mself\u001B[39m\u001B[38;5;241m.\u001B[39mx_max)\n",
      "File \u001B[1;32m<__array_function__ internals>:180\u001B[0m, in \u001B[0;36msort\u001B[1;34m(*args, **kwargs)\u001B[0m\n",
      "File \u001B[1;32m~\\AppData\\Local\\Programs\\Python\\Python310\\lib\\site-packages\\numpy\\core\\fromnumeric.py:1003\u001B[0m, in \u001B[0;36msort\u001B[1;34m(a, axis, kind, order)\u001B[0m\n\u001B[0;32m   1001\u001B[0m     axis \u001B[38;5;241m=\u001B[39m \u001B[38;5;241m-\u001B[39m\u001B[38;5;241m1\u001B[39m\n\u001B[0;32m   1002\u001B[0m \u001B[38;5;28;01melse\u001B[39;00m:\n\u001B[1;32m-> 1003\u001B[0m     a \u001B[38;5;241m=\u001B[39m \u001B[43masanyarray\u001B[49m\u001B[43m(\u001B[49m\u001B[43ma\u001B[49m\u001B[43m)\u001B[49m\u001B[38;5;241;43m.\u001B[39;49m\u001B[43mcopy\u001B[49m\u001B[43m(\u001B[49m\u001B[43morder\u001B[49m\u001B[38;5;241;43m=\u001B[39;49m\u001B[38;5;124;43m\"\u001B[39;49m\u001B[38;5;124;43mK\u001B[39;49m\u001B[38;5;124;43m\"\u001B[39;49m\u001B[43m)\u001B[49m\n\u001B[0;32m   1004\u001B[0m a\u001B[38;5;241m.\u001B[39msort(axis\u001B[38;5;241m=\u001B[39maxis, kind\u001B[38;5;241m=\u001B[39mkind, order\u001B[38;5;241m=\u001B[39morder)\n\u001B[0;32m   1005\u001B[0m \u001B[38;5;28;01mreturn\u001B[39;00m a\n",
      "\u001B[1;31mKeyboardInterrupt\u001B[0m: "
     ]
    }
   ],
   "source": [
    "from skimage import filters\n",
    "from skimage.color import rgb2gray\n",
    "\n",
    "img_begin = io.imread('../data/sequences-train/'+sequence_name+'-%0*d.bmp'%(3,im_begin)).astype(np.float32)/255.\n",
    "mask_begin = io.imread('../data/sequences-train/'+sequence_name+'-%0*d.png'%(3,im_begin))\n",
    "img_begin = filters.gaussian(rgb2gray(img_begin), gaussian_filter_sigma)\n",
    "\n",
    "img_previous = img_begin\n",
    "flow_shape = (img_begin.shape[0], img_begin.shape[1], 2)\n",
    "to_ref_flow = np.zeros(flow_shape)\n",
    "\n",
    "print(\"Processing sequence \" + sequence_name + \" with sequential propagation using \" + method_name)\n",
    "for im in tqdm(range(im_begin+1,im_end+1)):\n",
    "    img_current_full = io.imread('../data/sequences-train/'+sequence_name+'-%0*d.bmp'%(3,im)).astype(np.float32)/255.\n",
    "    img_current = filters.gaussian(rgb2gray(img_current_full), gaussian_filter_sigma)\n",
    "\n",
    "    flow = compute_flow(img_previous, img_current)\n",
    "    img_previous = img_current\n",
    "\n",
    "    to_ref_flow = flow_concatenation(flow, to_ref_flow)\n",
    "    propagation_mask = propagate_mask(to_ref_flow, img_current, mask_begin)\n",
    "\n",
    "    plt.imsave(save_dir+'/%0*d.png'%(3,im), propagation_mask, cmap=\"gray\")\n",
    "\n",
    "    plt.show()"
   ],
   "metadata": {
    "collapsed": false,
    "pycharm": {
     "name": "#%%\n"
    }
   }
  },
  {
   "cell_type": "code",
   "execution_count": null,
   "outputs": [],
   "source": [],
   "metadata": {
    "collapsed": false,
    "pycharm": {
     "name": "#%%\n"
    }
   }
  }
 ]
}